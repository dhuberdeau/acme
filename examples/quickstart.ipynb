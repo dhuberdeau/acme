{
 "cells": [
  {
   "cell_type": "markdown",
   "metadata": {
    "colab_type": "text",
    "id": "ULdrhOaVbsdO"
   },
   "source": [
    "# Acme: Quickstart\n",
    "## Guide to installing Acme and training your first D4PG agent.\n",
    "# <a href=\"https://colab.research.google.com/github/deepmind/acme/blob/master/examples/quickstart.ipynb\" target=\"_parent\"><img src=\"https://colab.research.google.com/assets/colab-badge.svg\" alt=\"Open In Colab\"/></a>\n",
    "\n"
   ]
  },
  {
   "cell_type": "markdown",
   "metadata": {
    "colab_type": "text",
    "id": "ogw2P040-F5P"
   },
   "source": [
    "## Select your environment library\n",
    "Note: `dm_control` requires a valid Mujoco license."
   ]
  },
  {
   "cell_type": "code",
   "execution_count": 1,
   "metadata": {
    "cellView": "form",
    "colab": {},
    "colab_type": "code",
    "id": "xflSXJPS8Qpm"
   },
   "outputs": [],
   "source": [
    "environment_library = 'gym'  # @param ['dm_control', 'gym']"
   ]
  },
  {
   "cell_type": "markdown",
   "metadata": {
    "colab_type": "text",
    "id": "U0UfMBOL_T2l"
   },
   "source": [
    "## Add your Mujoco license here\n",
    "Note: only required for `dm_control`."
   ]
  },
  {
   "cell_type": "code",
   "execution_count": 2,
   "metadata": {
    "colab": {},
    "colab_type": "code",
    "id": "QbCY7t4--eOd"
   },
   "outputs": [],
   "source": [
    "mjkey = \"\"\"\n",
    "\"\"\".strip()\n",
    "\n",
    "if not mjkey and environment_library == 'dm_control':\n",
    "  raise ValueError(\n",
    "      'A Mujoco license is required for `dm_control`, if you do not have on '\n",
    "      'consider selecting `gym` from the dropdown menu in the cell above.')"
   ]
  },
  {
   "cell_type": "markdown",
   "metadata": {
    "colab_type": "text",
    "id": "xaJxoatMhJ71"
   },
   "source": [
    "## Installation"
   ]
  },
  {
   "cell_type": "markdown",
   "metadata": {
    "colab_type": "text",
    "id": "ovuCuHCC78Zu"
   },
   "source": [
    "### Install Acme"
   ]
  },
  {
   "cell_type": "code",
   "execution_count": 3,
   "metadata": {
    "cellView": "both",
    "colab": {},
    "colab_type": "code",
    "id": "KH3O0zcXUeun"
   },
   "outputs": [
    {
     "name": "stdout",
     "output_type": "stream",
     "text": [
      "Collecting dm-acme[tf]\n",
      "  Using cached dm_acme-0.2.1-py3-none-any.whl\n",
      "Collecting absl-py\n",
      "  Downloading absl_py-0.12.0-py3-none-any.whl (129 kB)\n",
      "\u001b[K     |████████████████████████████████| 129 kB 7.1 MB/s eta 0:00:01    |████████████████████▎           | 81 kB 9.9 MB/s eta 0:00:01\n",
      "\u001b[?25hRequirement already satisfied: six in /home/linux4/miniconda3/lib/python3.9/site-packages (from absl-py->dm-acme[tf]) (1.15.0)\n",
      "Collecting dm-env\n",
      "  Using cached dm_env-1.4-py3-none-any.whl (24 kB)\n",
      "Collecting dm-sonnet\n",
      "  Downloading dm_sonnet-2.0.0-py3-none-any.whl (254 kB)\n",
      "\u001b[K     |████████████████████████████████| 254 kB 12.3 MB/s eta 0:00:01\n",
      "\u001b[?25hRequirement already satisfied: six in /home/linux4/miniconda3/lib/python3.9/site-packages (from absl-py->dm-acme[tf]) (1.15.0)\n",
      "Collecting dm-tree\n",
      "  Using cached dm_tree-0.1.6-cp39-cp39-manylinux_2_24_x86_64.whl (94 kB)\n",
      "Requirement already satisfied: six in /home/linux4/miniconda3/lib/python3.9/site-packages (from absl-py->dm-acme[tf]) (1.15.0)\n",
      "Collecting numpy\n",
      "  Downloading numpy-1.20.3-cp39-cp39-manylinux_2_12_x86_64.manylinux2010_x86_64.whl (15.4 MB)\n",
      "\u001b[K     |████████████████████████████████| 15.4 MB 4.5 MB/s eta 0:00:01    |███████▌                        | 3.6 MB 2.5 MB/s eta 0:00:05     |██████████▊                     | 5.1 MB 2.5 MB/s eta 0:00:05     |████████████                    | 5.8 MB 2.5 MB/s eta 0:00:04     |███████████████▎                | 7.3 MB 2.5 MB/s eta 0:00:04     |██████████████████████▏         | 10.6 MB 2.5 MB/s eta 0:00:02     |████████████████████████        | 11.5 MB 2.5 MB/s eta 0:00:02     |█████████████████████████▊      | 12.4 MB 2.5 MB/s eta 0:00:02\n",
      "\u001b[?25hCollecting pillow\n",
      "  Using cached Pillow-8.2.0-cp39-cp39-manylinux1_x86_64.whl (3.0 MB)\n",
      "Collecting tabulate>=0.7.5\n",
      "  Downloading tabulate-0.8.9-py3-none-any.whl (25 kB)\n",
      "Collecting tensorflow-datasets\n",
      "  Downloading tensorflow_datasets-4.3.0-py3-none-any.whl (3.9 MB)\n",
      "\u001b[K     |████████████████████████████████| 3.9 MB 32.1 MB/s eta 0:00:01     |██████████████████████▉         | 2.8 MB 32.1 MB/s eta 0:00:01     |█████████████████████████████▋  | 3.6 MB 32.1 MB/s eta 0:00:01\n",
      "\u001b[?25hRequirement already satisfied: tqdm in /home/linux4/miniconda3/lib/python3.9/site-packages (from tensorflow-datasets->dm-acme[tf]) (4.54.1)\n",
      "Requirement already satisfied: six in /home/linux4/miniconda3/lib/python3.9/site-packages (from absl-py->dm-acme[tf]) (1.15.0)\n",
      "Requirement already satisfied: attrs>=18.1.0 in /home/linux4/miniconda3/lib/python3.9/site-packages (from tensorflow-datasets->dm-acme[tf]) (21.2.0)\n",
      "Requirement already satisfied: requests>=2.19.0 in /home/linux4/miniconda3/lib/python3.9/site-packages (from tensorflow-datasets->dm-acme[tf]) (2.25.0)\n",
      "Collecting dill\n",
      "  Downloading dill-0.3.4-py2.py3-none-any.whl (86 kB)\n",
      "\u001b[K     |████████████████████████████████| 86 kB 4.8 MB/s  eta 0:00:01\n",
      "\u001b[?25hCollecting future\n",
      "  Downloading future-0.18.2.tar.gz (829 kB)\n",
      "\u001b[K     |████████████████████████████████| 829 kB 14.5 MB/s eta 0:00:01\n",
      "\u001b[?25hCollecting promise\n",
      "  Downloading promise-2.3.tar.gz (19 kB)\n",
      "Requirement already satisfied: six in /home/linux4/miniconda3/lib/python3.9/site-packages (from absl-py->dm-acme[tf]) (1.15.0)\n",
      "Collecting protobuf>=3.12.2\n",
      "  Downloading protobuf-3.17.3-cp39-cp39-manylinux_2_5_x86_64.manylinux1_x86_64.whl (1.0 MB)\n",
      "\u001b[K     |████████████████████████████████| 1.0 MB 21.2 MB/s eta 0:00:01     |█████▉                          | 184 kB 21.2 MB/s eta 0:00:01\n",
      "\u001b[?25hRequirement already satisfied: six in /home/linux4/miniconda3/lib/python3.9/site-packages (from absl-py->dm-acme[tf]) (1.15.0)\n",
      "Requirement already satisfied: urllib3<1.27,>=1.21.1 in /home/linux4/miniconda3/lib/python3.9/site-packages (from requests>=2.19.0->tensorflow-datasets->dm-acme[tf]) (1.25.11)\n",
      "Requirement already satisfied: idna<3,>=2.5 in /home/linux4/miniconda3/lib/python3.9/site-packages (from requests>=2.19.0->tensorflow-datasets->dm-acme[tf]) (2.10)\n",
      "Requirement already satisfied: certifi>=2017.4.17 in /home/linux4/miniconda3/lib/python3.9/site-packages (from requests>=2.19.0->tensorflow-datasets->dm-acme[tf]) (2021.5.30)\n",
      "Requirement already satisfied: chardet<4,>=3.0.2 in /home/linux4/miniconda3/lib/python3.9/site-packages (from requests>=2.19.0->tensorflow-datasets->dm-acme[tf]) (3.0.4)\n",
      "Collecting tensorflow-metadata\n",
      "  Downloading tensorflow_metadata-1.0.0-py3-none-any.whl (48 kB)\n",
      "\u001b[K     |████████████████████████████████| 48 kB 7.5 MB/s  eta 0:00:01\n",
      "\u001b[?25hCollecting googleapis-common-protos<2,>=1.52.0\n",
      "  Downloading googleapis_common_protos-1.53.0-py2.py3-none-any.whl (198 kB)\n",
      "\u001b[K     |████████████████████████████████| 198 kB 6.9 MB/s eta 0:00:01     |██████▋                         | 40 kB 18.9 MB/s eta 0:00:01\n",
      "\u001b[?25hCollecting termcolor\n",
      "  Downloading termcolor-1.1.0.tar.gz (3.9 kB)\n",
      "Collecting tf-nightly\n",
      "  Downloading tf_nightly-2.6.0.dev20210614-cp39-cp39-manylinux2010_x86_64.whl (454.8 MB)\n",
      "\u001b[K     |██████▊                         | 94.8 MB 35.0 MB/s eta 0:00:11   |▏                               | 2.9 MB 1.9 MB/s eta 0:03:57     |▎                               | 4.5 MB 1.9 MB/s eta 0:03:56     |▋                               | 8.4 MB 1.9 MB/s eta 0:03:54     |▊                               | 10.4 MB 1.9 MB/s eta 0:03:53     |▉                               | 11.5 MB 1.9 MB/s eta 0:03:53     |█▏                              | 16.3 MB 1.9 MB/s eta 0:03:50     |█▏                              | 17.2 MB 21.5 MB/s eta 0:00:21     |█▍                              | 19.8 MB 21.5 MB/s eta 0:00:21     |█▌                              | 20.8 MB 21.5 MB/s eta 0:00:21     |█▋                              | 22.2 MB 21.5 MB/s eta 0:00:21     |█▋                              | 23.1 MB 21.5 MB/s eta 0:00:21     |█▉                              | 26.3 MB 21.5 MB/s eta 0:00:20     |██                              | 27.4 MB 21.5 MB/s eta 0:00:20     |██                              | 29.2 MB 21.5 MB/s eta 0:00:20     |██                              | 29.9 MB 11.2 MB/s eta 0:00:38     |██▏                             | 31.5 MB 11.2 MB/s eta 0:00:38     |██▎                             | 32.7 MB 11.2 MB/s eta 0:00:38     |██▍                             | 34.7 MB 11.2 MB/s eta 0:00:38     |██▌                             | 35.4 MB 11.2 MB/s eta 0:00:38     |██▋                             | 36.7 MB 11.2 MB/s eta 0:00:38     |██▊                             | 38.3 MB 11.2 MB/s eta 0:00:38     |███                             | 42.9 MB 11.2 MB/s eta 0:00:37     |███                             | 43.7 MB 11.2 MB/s eta 0:00:37     |███▏                            | 45.4 MB 11.2 MB/s eta 0:00:37     |███▍                            | 47.5 MB 19.5 MB/s eta 0:00:21     |███▍                            | 47.8 MB 19.5 MB/s eta 0:00:21     |███▊                            | 53.2 MB 19.5 MB/s eta 0:00:21     |███▉                            | 54.8 MB 19.5 MB/s eta 0:00:21     |████                            | 56.4 MB 19.5 MB/s eta 0:00:21     |████                            | 57.5 MB 19.5 MB/s eta 0:00:21     |████▏                           | 58.7 MB 19.5 MB/s eta 0:00:21     |████▊                           | 67.2 MB 10.1 MB/s eta 0:00:39     |█████                           | 70.4 MB 10.1 MB/s eta 0:00:39     |█████▏                          | 72.9 MB 10.1 MB/s eta 0:00:38     |█████▎                          | 75.3 MB 10.1 MB/s eta 0:00:38     |█████▍                          | 76.4 MB 10.1 MB/s eta 0:00:38     |█████▍                          | 77.4 MB 10.1 MB/s eta 0:00:38     |█████▌                          | 78.0 MB 5.9 MB/s eta 0:01:04     |█████▌                          | 78.7 MB 5.9 MB/s eta 0:01:04     |█████▊                          | 80.7 MB 5.9 MB/s eta 0:01:04     |█████▊                          | 81.6 MB 5.9 MB/s eta 0:01:04     |██████                          | 84.0 MB 5.9 MB/s eta 0:01:03     |██████                          | 84.9 MB 5.9 MB/s eta 0:01:03     |██████                          | 85.5 MB 5.9 MB/s eta 0:01:03     |██████                          | 86.5 MB 5.9 MB/s eta 0:01:03     |██████▎                         | 89.7 MB 5.9 MB/s eta 0:01:02     |██████▍                         | 91.3 MB 5.9 MB/s eta 0:01:02     |██████▌                         | 93.0 MB 35.0 MB/s eta 0:00:11\u001b[K     |██████████████████████▊         | 323.3 MB 7.6 MB/s eta 0:00:189     |███████                         | 100.6 MB 35.0 MB/s eta 0:00:11     |███████▏                        | 101.5 MB 35.0 MB/s eta 0:00:11     |███████▎                        | 104.2 MB 35.0 MB/s eta 0:00:11     |███████▍                        | 105.0 MB 35.0 MB/s eta 0:00:10     |███████▍                        | 105.7 MB 35.0 MB/s eta 0:00:10     |███████▋                        | 107.4 MB 16.3 MB/s eta 0:00:22     |███████▊                        | 109.6 MB 16.3 MB/s eta 0:00:22     |███████▉                        | 110.7 MB 16.3 MB/s eta 0:00:22     |████████                        | 112.7 MB 16.3 MB/s eta 0:00:21     |████████                        | 113.7 MB 16.3 MB/s eta 0:00:21     |████████▍                       | 118.6 MB 16.3 MB/s eta 0:00:21     |████████▌                       | 121.5 MB 16.3 MB/s eta 0:00:21     |████████▉                       | 125.3 MB 3.3 MB/s eta 0:01:40     |█████████                       | 127.2 MB 3.3 MB/s eta 0:01:39     |█████████                       | 127.8 MB 3.3 MB/s eta 0:01:39     |█████████▏                      | 129.7 MB 3.3 MB/s eta 0:01:39     |█████████▏                      | 130.7 MB 3.3 MB/s eta 0:01:38     |█████████▊                      | 138.8 MB 3.3 MB/s eta 0:01:36     |█████████▉                      | 140.4 MB 14.6 MB/s eta 0:00:22     |██████████                      | 142.4 MB 14.6 MB/s eta 0:00:22     |██████████                      | 143.1 MB 14.6 MB/s eta 0:00:22     |██████████▏                     | 145.0 MB 14.6 MB/s eta 0:00:22     |██████████▎                     | 146.4 MB 14.6 MB/s eta 0:00:22     |██████████▍                     | 147.3 MB 14.6 MB/s eta 0:00:22     |██████████▋                     | 151.4 MB 14.6 MB/s eta 0:00:21     |██████████▊                     | 152.1 MB 14.6 MB/s eta 0:00:21     |██████████▉                     | 153.6 MB 14.6 MB/s eta 0:00:21     |███████████                     | 155.8 MB 14.6 MB/s eta 0:00:21     |███████████                     | 156.6 MB 8.8 MB/s eta 0:00:34     |███████████▏                    | 158.9 MB 8.8 MB/s eta 0:00:34     |███████████▎                    | 160.7 MB 8.8 MB/s eta 0:00:34     |███████████▍                    | 162.5 MB 8.8 MB/s eta 0:00:34     |███████████▌                    | 163.3 MB 8.8 MB/s eta 0:00:34     |███████████▌                    | 164.0 MB 8.8 MB/s eta 0:00:33     |███████████▋                    | 164.7 MB 8.8 MB/s eta 0:00:33     |████████████                    | 169.0 MB 8.8 MB/s eta 0:00:33     |████████████                    | 169.8 MB 8.8 MB/s eta 0:00:33     |████████████                    | 171.0 MB 8.5 MB/s eta 0:00:34     |████████████▏                   | 172.4 MB 8.5 MB/s eta 0:00:34     |████████████▏                   | 173.1 MB 8.5 MB/s eta 0:00:34     |████████████▎                   | 174.7 MB 8.5 MB/s eta 0:00:33     |████████████▌                   | 177.1 MB 8.5 MB/s eta 0:00:33     |████████████▋                   | 178.6 MB 8.5 MB/s eta 0:00:33     |████████████▋                   | 179.4 MB 8.5 MB/s eta 0:00:33     |████████████▊                   | 180.3 MB 8.5 MB/s eta 0:00:33     |████████████▉                   | 181.8 MB 8.5 MB/s eta 0:00:32     |█████████████                   | 185.1 MB 8.5 MB/s eta 0:00:32     |█████████████▏                  | 186.6 MB 7.7 MB/s eta 0:00:35     |█████████████▎                  | 188.7 MB 7.7 MB/s eta 0:00:35     |█████████████▎                  | 189.3 MB 7.7 MB/s eta 0:00:35     |█████████████▍                  | 190.1 MB 7.7 MB/s eta 0:00:35     |█████████████▍                  | 190.8 MB 7.7 MB/s eta 0:00:35     |█████████████▋                  | 193.6 MB 7.7 MB/s eta 0:00:34     |█████████████▊                  | 195.2 MB 7.7 MB/s eta 0:00:34     |██████████████                  | 198.0 MB 7.7 MB/s eta 0:00:34     |██████████████                  | 199.0 MB 7.7 MB/s eta 0:00:34     |██████████████                  | 199.7 MB 11.8 MB/s eta 0:00:22     |██████████████▏                 | 200.8 MB 11.8 MB/s eta 0:00:22     |██████████████▎                 | 202.5 MB 11.8 MB/s eta 0:00:22     |██████████████▎                 | 203.2 MB 11.8 MB/s eta 0:00:22     |███████████████                 | 212.8 MB 11.8 MB/s eta 0:00:21     |███████████████▌                | 220.7 MB 19.9 MB/s eta 0:00:12     |███████████████▋                | 221.7 MB 19.9 MB/s eta 0:00:12     |███████████████▋                | 222.2 MB 19.9 MB/s eta 0:00:12     |███████████████▉                | 225.2 MB 19.9 MB/s eta 0:00:12     |███████████████▉                | 225.7 MB 19.9 MB/s eta 0:00:12     |████████████████                | 228.0 MB 8.6 MB/s eta 0:00:27     |████████████████▍               | 232.4 MB 8.6 MB/s eta 0:00:26     |████████████████▍               | 233.2 MB 8.6 MB/s eta 0:00:26     |████████████████▋               | 235.5 MB 8.6 MB/s eta 0:00:26     |████████████████▉               | 238.8 MB 8.6 MB/s eta 0:00:26     |████████████████▉               | 239.4 MB 8.6 MB/s eta 0:00:25     |█████████████████               | 240.9 MB 8.6 MB/s eta 0:00:25     |█████████████████               | 241.8 MB 8.6 MB/s eta 0:00:25     |█████████████████▏              | 244.7 MB 6.0 MB/s eta 0:00:36     |█████████████████▍              | 246.8 MB 6.0 MB/s eta 0:00:35     |█████████████████▋              | 250.1 MB 6.0 MB/s eta 0:00:35     |█████████████████▋              | 250.6 MB 6.0 MB/s eta 0:00:35     |█████████████████▊              | 251.5 MB 6.0 MB/s eta 0:00:34     |█████████████████▊              | 252.0 MB 6.0 MB/s eta 0:00:34     |█████████████████▉              | 253.6 MB 6.0 MB/s eta 0:00:34     |██████████████████              | 255.6 MB 11.0 MB/s eta 0:00:19     |██████████████████▏             | 257.9 MB 11.0 MB/s eta 0:00:18     |██████████████████▏             | 258.6 MB 11.0 MB/s eta 0:00:18     |██████████████████▌             | 262.7 MB 11.0 MB/s eta 0:00:18     |██████████████████▌             | 263.4 MB 11.0 MB/s eta 0:00:18     |██████████████████▋             | 264.5 MB 11.0 MB/s eta 0:00:18     |██████████████████▊             | 266.1 MB 11.0 MB/s eta 0:00:18     |██████████████████▉             | 267.7 MB 11.0 MB/s eta 0:00:17     |███████████████████             | 268.6 MB 11.0 MB/s eta 0:00:17     |███████████████████             | 270.0 MB 16.7 MB/s eta 0:00:12     |███████████████████▏            | 272.0 MB 16.7 MB/s eta 0:00:11     |███████████████████▉            | 282.0 MB 16.7 MB/s eta 0:00:11     |████████████████████            | 284.1 MB 16.7 MB/s eta 0:00:11     |████████████████████            | 285.2 MB 18.0 MB/s eta 0:00:10     |████████████████████▍           | 289.3 MB 18.0 MB/s eta 0:00:10     |████████████████████▊           | 294.3 MB 18.0 MB/s eta 0:00:09     |████████████████████▊           | 295.1 MB 18.0 MB/s eta 0:00:09     |████████████████████▉           | 296.7 MB 18.0 MB/s eta 0:00:09     |█████████████████████           | 297.6 MB 18.0 MB/s eta 0:00:09     |█████████████████████           | 299.3 MB 18.0 MB/s eta 0:00:09     |█████████████████████           | 300.0 MB 7.7 MB/s eta 0:00:21     |█████████████████████▏          | 301.0 MB 7.7 MB/s eta 0:00:20     |█████████████████████▍          | 303.3 MB 7.7 MB/s eta 0:00:20     |█████████████████████▌          | 304.9 MB 7.7 MB/s eta 0:00:20     |█████████████████████▌          | 305.7 MB 7.7 MB/s eta 0:00:20     |█████████████████████▉          | 309.7 MB 7.7 MB/s eta 0:00:19     |██████████████████████          | 312.7 MB 7.7 MB/s eta 0:00:19     |██████████████████████          | 313.6 MB 7.7 MB/s eta 0:00:19     |██████████████████████▎         | 316.0 MB 7.6 MB/s eta 0:00:19     |██████████████████████▎         | 316.8 MB 7.6 MB/s eta 0:00:19     |██████████████████████▍         | 317.6 MB 7.6 MB/s eta 0:00:19     |██████████████████████▍         | 318.0 MB 7.6 MB/s eta 0:00:19     |██████████████████████▍         | 318.8 MB 7.6 MB/s eta 0:00:18     |██████████████████████▌         | 320.5 MB 7.6 MB/s eta 0:00:18     |██████████████████████▋         | 321.6 MB 7.6 MB/s eta 0:00:18     |██████████████████████▊         | 322.6 MB 7.6 MB/s eta 0:00:18\u001b[K     |████████████████████████████████| 454.8 MB 14 kB/s  eta 0:00:011     |███████████████████████▋        | 335.9 MB 10.3 MB/s eta 0:00:12     |████████████████████████▍       | 346.1 MB 6.7 MB/s eta 0:00:17     |████████████████████████▍       | 346.5 MB 6.7 MB/s eta 0:00:17     |████████████████████████▋       | 349.3 MB 6.7 MB/s eta 0:00:16     |█████████████████████████       | 354.6 MB 6.7 MB/s eta 0:00:15     |█████████████████████████▏      | 357.1 MB 11.2 MB/s eta 0:00:09     |█████████████████████████▎      | 359.1 MB 11.2 MB/s eta 0:00:09     |█████████████████████████▍      | 361.5 MB 11.2 MB/s eta 0:00:09     |█████████████████████████▌      | 362.2 MB 11.2 MB/s eta 0:00:09     |█████████████████████████▌      | 362.9 MB 11.2 MB/s eta 0:00:09     |█████████████████████████▉      | 366.9 MB 11.2 MB/s eta 0:00:08     |██████████████████████████      | 368.8 MB 11.2 MB/s eta 0:00:08     |██████████████████████████▎     | 373.4 MB 16.5 MB/s eta 0:00:05     |██████████████████████████▋     | 379.0 MB 16.5 MB/s eta 0:00:05     |██████████████████████████▉     | 381.6 MB 16.5 MB/s eta 0:00:05     |███████████████████████████     | 383.4 MB 16.5 MB/s eta 0:00:05     |███████████████████████████     | 384.3 MB 16.5 MB/s eta 0:00:05     |███████████████████████████▏    | 386.1 MB 55.9 MB/s eta 0:00:02     |███████████████████████████▍    | 389.7 MB 55.9 MB/s eta 0:00:02     |████████████████████████████▏   | 399.9 MB 55.9 MB/s eta 0:00:01     |████████████████████████████▎   | 401.9 MB 16.9 MB/s eta 0:00:04     |████████████████████████████▎   | 402.5 MB 16.9 MB/s eta 0:00:04     |████████████████████████████▍   | 403.4 MB 16.9 MB/s eta 0:00:04     |████████████████████████████▋   | 407.0 MB 16.9 MB/s eta 0:00:03     |████████████████████████████▊   | 408.6 MB 16.9 MB/s eta 0:00:03     |████████████████████████████▉   | 410.1 MB 16.9 MB/s eta 0:00:03     |█████████████████████████████▎  | 415.8 MB 8.4 MB/s eta 0:00:05     |█████████████████████████████▍  | 417.8 MB 8.4 MB/s eta 0:00:05     |█████████████████████████████▌  | 419.6 MB 8.4 MB/s eta 0:00:05     |█████████████████████████████▉  | 423.9 MB 8.4 MB/s eta 0:00:04     |█████████████████████████████▉  | 424.5 MB 8.4 MB/s eta 0:00:04     |██████████████████████████████  | 426.3 MB 25.6 MB/s eta 0:00:02     |██████████████████████████████  | 427.8 MB 25.6 MB/s eta 0:00:02     |██████████████████████████████▏ | 428.7 MB 25.6 MB/s eta 0:00:02     |██████████████████████████████▎ | 429.6 MB 25.6 MB/s eta 0:00:01     |██████████████████████████████▎ | 430.5 MB 25.6 MB/s eta 0:00:01     |██████████████████████████████▋ | 434.6 MB 25.6 MB/s eta 0:00:01     |██████████████████████████████▊ | 436.2 MB 25.6 MB/s eta 0:00:01     |██████████████████████████████▊ | 436.9 MB 25.6 MB/s eta 0:00:01     |███████████████████████████████ | 439.3 MB 21.5 MB/s eta 0:00:01     |███████████████████████████████ | 440.1 MB 21.5 MB/s eta 0:00:01     |███████████████████████████████▏| 443.0 MB 21.5 MB/s eta 0:00:01     |███████████████████████████████▍| 445.5 MB 21.5 MB/s eta 0:00:01     |███████████████████████████████▍| 446.5 MB 21.5 MB/s eta 0:00:01     |███████████████████████████████▉| 452.9 MB 21.5 MB/s eta 0:00:01     |████████████████████████████████| 453.6 MB 21.5 MB/s eta 0:00:01\n",
      "\u001b[?25hRequirement already satisfied: wheel~=0.35 in /home/linux4/miniconda3/lib/python3.9/site-packages (from tf-nightly->dm-acme[tf]) (0.36.1)\n",
      "Requirement already satisfied: six in /home/linux4/miniconda3/lib/python3.9/site-packages (from absl-py->dm-acme[tf]) (1.15.0)\n",
      "Collecting astunparse~=1.6.3\n",
      "  Downloading astunparse-1.6.3-py2.py3-none-any.whl (12 kB)\n",
      "Requirement already satisfied: six in /home/linux4/miniconda3/lib/python3.9/site-packages (from absl-py->dm-acme[tf]) (1.15.0)\n",
      "Requirement already satisfied: wheel~=0.35 in /home/linux4/miniconda3/lib/python3.9/site-packages (from tf-nightly->dm-acme[tf]) (0.36.1)\n",
      "Collecting flatbuffers~=1.12.0\n",
      "  Using cached flatbuffers-1.12-py2.py3-none-any.whl (15 kB)\n",
      "Collecting gast==0.4.0\n",
      "  Downloading gast-0.4.0-py3-none-any.whl (9.8 kB)\n",
      "Collecting google-pasta~=0.2\n",
      "  Downloading google_pasta-0.2.0-py3-none-any.whl (57 kB)\n",
      "\u001b[K     |████████████████████████████████| 57 kB 2.6 MB/s eta 0:00:011\n",
      "\u001b[?25hRequirement already satisfied: six in /home/linux4/miniconda3/lib/python3.9/site-packages (from absl-py->dm-acme[tf]) (1.15.0)\n",
      "Collecting grpcio<2.0,>=1.37.0\n",
      "  Downloading grpcio-1.38.0-cp39-cp39-manylinux2014_x86_64.whl (4.3 MB)\n",
      "\u001b[K     |████████████████████████████████| 4.3 MB 13.7 MB/s eta 0:00:01     |████████████████▋               | 2.2 MB 13.7 MB/s eta 0:00:01     |██████████████████████▍         | 3.0 MB 13.7 MB/s eta 0:00:01\n",
      "\u001b[?25hRequirement already satisfied: six in /home/linux4/miniconda3/lib/python3.9/site-packages (from absl-py->dm-acme[tf]) (1.15.0)\n",
      "Collecting h5py~=3.1.0\n",
      "  Using cached h5py-3.1.0-cp39-cp39-manylinux1_x86_64.whl (4.4 MB)\n",
      "Collecting keras-nightly~=2.6.0.dev\n",
      "  Downloading keras_nightly-2.6.0.dev2021061400-py2.py3-none-any.whl (1.3 MB)\n",
      "\u001b[K     |████████████████████████████████| 1.3 MB 13.0 MB/s eta 0:00:01\n",
      "\u001b[?25hCollecting keras-preprocessing~=1.1.2\n",
      "  Downloading Keras_Preprocessing-1.1.2-py2.py3-none-any.whl (42 kB)\n",
      "\u001b[K     |████████████████████████████████| 42 kB 1.7 MB/s  eta 0:00:01\n",
      "\u001b[?25hRequirement already satisfied: six in /home/linux4/miniconda3/lib/python3.9/site-packages (from absl-py->dm-acme[tf]) (1.15.0)\n",
      "Collecting numpy\n",
      "  Using cached numpy-1.19.5-cp39-cp39-manylinux2010_x86_64.whl (14.9 MB)\n",
      "Collecting opt-einsum~=3.3.0\n",
      "  Using cached opt_einsum-3.3.0-py3-none-any.whl (65 kB)\n",
      "Collecting tb-nightly~=2.6.0.a\n",
      "  Downloading tb_nightly-2.6.0a20210614-py3-none-any.whl (5.5 MB)\n",
      "\u001b[K     |████████████████████████████████| 5.5 MB 6.3 MB/s eta 0:00:01     |████▎                           | 737 kB 6.3 MB/s eta 0:00:01     |██████████████                  | 2.4 MB 6.3 MB/s eta 0:00:01     |██████████████████▉             | 3.3 MB 6.3 MB/s eta 0:00:01     |████████████████████████        | 4.1 MB 6.3 MB/s eta 0:00:01     |███████████████████████████████▍| 5.4 MB 6.3 MB/s eta 0:00:01\n",
      "\u001b[?25hRequirement already satisfied: setuptools>=41.0.0 in /home/linux4/miniconda3/lib/python3.9/site-packages (from tb-nightly~=2.6.0.a->tf-nightly->dm-acme[tf]) (51.0.0.post20201207)\n",
      "Requirement already satisfied: wheel~=0.35 in /home/linux4/miniconda3/lib/python3.9/site-packages (from tf-nightly->dm-acme[tf]) (0.36.1)\n",
      "Requirement already satisfied: requests>=2.19.0 in /home/linux4/miniconda3/lib/python3.9/site-packages (from tensorflow-datasets->dm-acme[tf]) (2.25.0)\n",
      "Collecting google-auth<2,>=1.6.3\n",
      "  Downloading google_auth-1.31.0-py2.py3-none-any.whl (147 kB)\n",
      "\u001b[K     |████████████████████████████████| 147 kB 24.8 MB/s eta 0:00:01\n",
      "\u001b[?25hRequirement already satisfied: six in /home/linux4/miniconda3/lib/python3.9/site-packages (from absl-py->dm-acme[tf]) (1.15.0)\n",
      "Requirement already satisfied: setuptools>=41.0.0 in /home/linux4/miniconda3/lib/python3.9/site-packages (from tb-nightly~=2.6.0.a->tf-nightly->dm-acme[tf]) (51.0.0.post20201207)\n",
      "Collecting cachetools<5.0,>=2.0.0\n",
      "  Downloading cachetools-4.2.2-py3-none-any.whl (11 kB)\n",
      "Collecting google-auth-oauthlib<0.5,>=0.4.1\n",
      "  Downloading google_auth_oauthlib-0.4.4-py2.py3-none-any.whl (18 kB)\n",
      "Collecting markdown>=2.6.8\n",
      "  Downloading Markdown-3.3.4-py3-none-any.whl (97 kB)\n",
      "\u001b[K     |████████████████████████████████| 97 kB 8.7 MB/s  eta 0:00:01\n",
      "\u001b[?25hCollecting pyasn1-modules>=0.2.1\n",
      "  Downloading pyasn1_modules-0.2.8-py2.py3-none-any.whl (155 kB)\n",
      "\u001b[K     |████████████████████████████████| 155 kB 8.7 MB/s eta 0:00:01\n",
      "\u001b[?25hCollecting pyasn1<0.5.0,>=0.4.6\n",
      "  Downloading pyasn1-0.4.8-py2.py3-none-any.whl (77 kB)\n",
      "\u001b[K     |████████████████████████████████| 77 kB 9.9 MB/s  eta 0:00:01\n",
      "\u001b[?25hCollecting requests-oauthlib>=0.7.0\n",
      "  Downloading requests_oauthlib-1.3.0-py2.py3-none-any.whl (23 kB)\n",
      "Requirement already satisfied: requests>=2.19.0 in /home/linux4/miniconda3/lib/python3.9/site-packages (from tensorflow-datasets->dm-acme[tf]) (2.25.0)\n",
      "Collecting oauthlib>=3.0.0\n",
      "  Downloading oauthlib-3.1.1-py2.py3-none-any.whl (146 kB)\n",
      "\u001b[K     |████████████████████████████████| 146 kB 8.9 MB/s eta 0:00:01     |█████████████▌                  | 61 kB 9.7 MB/s eta 0:00:01\n"
     ]
    },
    {
     "name": "stdout",
     "output_type": "stream",
     "text": [
      "\u001b[?25hCollecting rsa<5,>=3.1.4\n",
      "  Downloading rsa-4.7.2-py3-none-any.whl (34 kB)\n",
      "Collecting tensorboard-data-server<0.7.0,>=0.6.0\n",
      "  Using cached tensorboard_data_server-0.6.1-py3-none-manylinux2010_x86_64.whl (4.9 MB)\n",
      "Collecting tensorboard-plugin-wit>=1.6.0\n",
      "  Downloading tensorboard_plugin_wit-1.8.0-py3-none-any.whl (781 kB)\n",
      "\u001b[K     |████████████████████████████████| 781 kB 5.8 MB/s eta 0:00:01\n",
      "\u001b[?25hCollecting tf-estimator-nightly~=2.5.0.dev\n",
      "  Downloading tf_estimator_nightly-2.5.0.dev2021032601-py2.py3-none-any.whl (462 kB)\n",
      "\u001b[K     |████████████████████████████████| 462 kB 31.4 MB/s eta 0:00:01\n",
      "\u001b[?25hCollecting tfp-nightly\n",
      "  Downloading tfp_nightly-0.14.0.dev20210614-py2.py3-none-any.whl (5.5 MB)\n",
      "\u001b[K     |████████████████████████████████| 5.5 MB 16.0 MB/s eta 0:00:01     |█                               | 163 kB 16.0 MB/s eta 0:00:01     |██████████▉                     | 1.9 MB 16.0 MB/s eta 0:00:01\n",
      "\u001b[?25hRequirement already satisfied: six in /home/linux4/miniconda3/lib/python3.9/site-packages (from absl-py->dm-acme[tf]) (1.15.0)\n",
      "Requirement already satisfied: decorator in /home/linux4/miniconda3/lib/python3.9/site-packages (from tfp-nightly->dm-acme[tf]) (5.0.9)\n",
      "Collecting cloudpickle>=1.3\n",
      "  Downloading cloudpickle-1.6.0-py3-none-any.whl (23 kB)\n",
      "Collecting trfl\n",
      "  Downloading trfl-1.1.0-py3-none-any.whl (99 kB)\n",
      "\u001b[K     |████████████████████████████████| 99 kB 7.7 MB/s  eta 0:00:01\n",
      "\u001b[?25hRequirement already satisfied: six in /home/linux4/miniconda3/lib/python3.9/site-packages (from absl-py->dm-acme[tf]) (1.15.0)\n",
      "Collecting typing-extensions~=3.7.4\n",
      "  Downloading typing_extensions-3.7.4.3-py3-none-any.whl (22 kB)\n",
      "Collecting werkzeug>=0.11.15\n",
      "  Downloading Werkzeug-2.0.1-py3-none-any.whl (288 kB)\n",
      "\u001b[K     |████████████████████████████████| 288 kB 12.7 MB/s eta 0:00:01\n",
      "\u001b[?25hCollecting wrapt>=1.11.1\n",
      "  Downloading wrapt-1.12.1.tar.gz (27 kB)\n",
      "Building wheels for collected packages: future, promise, termcolor, wrapt\n",
      "  Building wheel for future (setup.py) ... \u001b[?25ldone\n",
      "\u001b[?25h  Created wheel for future: filename=future-0.18.2-py3-none-any.whl size=491058 sha256=934c9ba6a60ffc885a684c85889ca8e504f4a30f90d718306ae0fba13741562b\n",
      "  Stored in directory: /home/linux4/.cache/pip/wheels/2f/a0/d3/4030d9f80e6b3be787f19fc911b8e7aa462986a40ab1e4bb94\n",
      "  Building wheel for promise (setup.py) ... \u001b[?25ldone\n",
      "\u001b[?25h  Created wheel for promise: filename=promise-2.3-py3-none-any.whl size=21495 sha256=fb6245c8c60511a95b039f4620f492687c3931d43ea361d227d4fa60b2c18c7a\n",
      "  Stored in directory: /home/linux4/.cache/pip/wheels/e1/e8/83/ddea66100678d139b14bc87692ece57c6a2a937956d2532608\n",
      "  Building wheel for termcolor (setup.py) ... \u001b[?25ldone\n",
      "\u001b[?25h  Created wheel for termcolor: filename=termcolor-1.1.0-py3-none-any.whl size=4832 sha256=336ce9b48b0d2f73fdee0599ec04e03515930050cd7363885d53364334dadf6e\n",
      "  Stored in directory: /home/linux4/.cache/pip/wheels/b6/0d/90/0d1bbd99855f99cb2f6c2e5ff96f8023fad8ec367695f7d72d\n",
      "  Building wheel for wrapt (setup.py) ... \u001b[?25ldone\n",
      "\u001b[?25h  Created wheel for wrapt: filename=wrapt-1.12.1-cp39-cp39-linux_x86_64.whl size=37053 sha256=8a0686588bdd902b5ded6ddeb762cb365e62be4a5d00e279fd5dd5125c898a4a\n",
      "  Stored in directory: /home/linux4/.cache/pip/wheels/98/23/68/efe259aaca055e93b08e74fbe512819c69a2155c11ba3c0f10\n",
      "Successfully built future promise termcolor wrapt\n",
      "Installing collected packages: pyasn1, rsa, pyasn1-modules, oauthlib, cachetools, requests-oauthlib, protobuf, google-auth, werkzeug, tensorboard-plugin-wit, tensorboard-data-server, numpy, markdown, grpcio, googleapis-common-protos, google-auth-oauthlib, dm-tree, absl-py, wrapt, typing-extensions, tf-estimator-nightly, termcolor, tensorflow-metadata, tb-nightly, tabulate, promise, pillow, opt-einsum, keras-preprocessing, keras-nightly, h5py, google-pasta, gast, future, flatbuffers, dm-env, dill, cloudpickle, astunparse, trfl, tfp-nightly, tf-nightly, tensorflow-datasets, dm-sonnet, dm-acme\n",
      "Successfully installed absl-py-0.12.0 astunparse-1.6.3 cachetools-4.2.2 cloudpickle-1.6.0 dill-0.3.4 dm-acme-0.2.1 dm-env-1.4 dm-sonnet-2.0.0 dm-tree-0.1.6 flatbuffers-1.12 future-0.18.2 gast-0.4.0 google-auth-1.31.0 google-auth-oauthlib-0.4.4 google-pasta-0.2.0 googleapis-common-protos-1.53.0 grpcio-1.38.0 h5py-3.1.0 keras-nightly-2.6.0.dev2021061400 keras-preprocessing-1.1.2 markdown-3.3.4 numpy-1.19.5 oauthlib-3.1.1 opt-einsum-3.3.0 pillow-8.2.0 promise-2.3 protobuf-3.17.3 pyasn1-0.4.8 pyasn1-modules-0.2.8 requests-oauthlib-1.3.0 rsa-4.7.2 tabulate-0.8.9 tb-nightly-2.6.0a20210614 tensorboard-data-server-0.6.1 tensorboard-plugin-wit-1.8.0 tensorflow-datasets-4.3.0 tensorflow-metadata-1.0.0 termcolor-1.1.0 tf-estimator-nightly-2.5.0.dev2021032601 tf-nightly-2.6.0.dev20210614 tfp-nightly-0.14.0.dev20210614 trfl-1.1.0 typing-extensions-3.7.4.3 werkzeug-2.0.1 wrapt-1.12.1\n"
     ]
    }
   ],
   "source": [
    "# !pip install dm-acme\n",
    "# !pip install dm-acme[reverb]\n",
    "!pip install dm-acme[tf]"
   ]
  },
  {
   "cell_type": "markdown",
   "metadata": {
    "colab_type": "text",
    "id": "VEEj3Qw60y73"
   },
   "source": [
    "### Install the environment library\n",
    "\n",
    "Without a valid license you won't be able to use the `dm_control` environments but can still follow this colab using the `gym` environments.\n",
    "\n",
    "If you have a personal Mujoco license (_not_ an institutional one), you may \n",
    "need to follow the instructions at https://research.google.com/colaboratory/local-runtimes.html to run a Jupyter kernel on your local machine.\n",
    "This will allow you to install `dm_control` by following instructions in\n",
    "https://github.com/deepmind/dm_control and using a personal MuJoCo license.\n"
   ]
  },
  {
   "cell_type": "code",
   "execution_count": 4,
   "metadata": {
    "cellView": "both",
    "colab": {},
    "colab_type": "code",
    "id": "IbZxYDxzoz5R"
   },
   "outputs": [
    {
     "name": "stdout",
     "output_type": "stream",
     "text": [
      "Collecting gym\n",
      "  Downloading gym-0.18.3.tar.gz (1.6 MB)\n",
      "\u001b[K     |████████████████████████████████| 1.6 MB 2.3 MB/s eta 0:00:01\n",
      "\u001b[?25hRequirement already satisfied: numpy>=1.10.4 in /home/linux4/miniconda3/lib/python3.9/site-packages (from gym) (1.19.5)\n",
      "Requirement already satisfied: Pillow<=8.2.0 in /home/linux4/miniconda3/lib/python3.9/site-packages (from gym) (8.2.0)\n",
      "Requirement already satisfied: cloudpickle<1.7.0,>=1.2.0 in /home/linux4/miniconda3/lib/python3.9/site-packages (from gym) (1.6.0)\n",
      "Collecting pyglet<=1.5.15,>=1.4.0\n",
      "  Downloading pyglet-1.5.15-py3-none-any.whl (1.1 MB)\n",
      "\u001b[K     |████████████████████████████████| 1.1 MB 3.6 MB/s eta 0:00:01\n",
      "\u001b[?25hCollecting scipy\n",
      "  Downloading scipy-1.6.3-cp39-cp39-manylinux1_x86_64.whl (27.3 MB)\n",
      "\u001b[K     |████████████████████████████████| 27.3 MB 6.0 MB/s eta 0:00:011    |▎                               | 256 kB 22.6 MB/s eta 0:00:02     |█                               | 860 kB 22.6 MB/s eta 0:00:02     |██▋                             | 2.2 MB 22.6 MB/s eta 0:00:02     |███▍                            | 2.9 MB 22.6 MB/s eta 0:00:02     |████▌                           | 3.9 MB 22.6 MB/s eta 0:00:02     |██████▋                         | 5.6 MB 22.6 MB/s eta 0:00:01     |███████▉                        | 6.7 MB 22.6 MB/s eta 0:00:01     |██████████                      | 8.6 MB 22.6 MB/s eta 0:00:01     |██████████████                  | 12.0 MB 22.6 MB/s eta 0:00:01     |███████████████▏                | 12.9 MB 22.6 MB/s eta 0:00:01     |████████████████▏               | 13.8 MB 22.6 MB/s eta 0:00:01     |█████████████████▎              | 14.8 MB 22.6 MB/s eta 0:00:01     |██████████████████▋             | 15.9 MB 22.6 MB/s eta 0:00:01     |█████████████████████           | 17.9 MB 6.0 MB/s eta 0:00:02     |███████████████████████         | 19.5 MB 6.0 MB/s eta 0:00:02     |████████████████████████▊       | 21.1 MB 6.0 MB/s eta 0:00:02     |███████████████████████████     | 23.0 MB 6.0 MB/s eta 0:00:01     |█████████████████████████████   | 24.7 MB 6.0 MB/s eta 0:00:01     |███████████████████████████████ | 26.4 MB 6.0 MB/s eta 0:00:01\n",
      "\u001b[?25hRequirement already satisfied: numpy>=1.10.4 in /home/linux4/miniconda3/lib/python3.9/site-packages (from gym) (1.19.5)\n",
      "Building wheels for collected packages: gym\n",
      "  Building wheel for gym (setup.py) ... \u001b[?25ldone\n",
      "\u001b[?25h  Created wheel for gym: filename=gym-0.18.3-py3-none-any.whl size=1657514 sha256=b76974b8bca3b23915c159500bff2bf600c388e5b7437f8d5c4d42a45a074834\n",
      "  Stored in directory: /home/linux4/.cache/pip/wheels/b5/b2/22/18f5aaab5f166438bee1abb6194e5cc2602981620a7c15dbda\n",
      "Successfully built gym\n",
      "Installing collected packages: scipy, pyglet, gym\n",
      "Successfully installed gym-0.18.3 pyglet-1.5.15 scipy-1.6.3\n"
     ]
    }
   ],
   "source": [
    "#@test {\"skip\": true}\n",
    "if environment_library == 'dm_control':\n",
    "  mujoco_dir = \"$HOME/.mujoco\"\n",
    "\n",
    "  # Install OpenGL dependencies\n",
    "  !apt-get update && apt-get install -y --no-install-recommends \\\n",
    "    libgl1-mesa-glx libosmesa6 libglew2.0\n",
    "\n",
    "  # Get MuJoCo binaries\n",
    "  !wget -q https://www.roboti.us/download/mujoco200_linux.zip -O mujoco.zip\n",
    "  !unzip -o -q mujoco.zip -d \"$mujoco_dir\"\n",
    "\n",
    "  # Copy over MuJoCo license\n",
    "  !echo \"$mjkey\" > \"$mujoco_dir/mjkey.txt\"\n",
    "\n",
    "  # Install dm_control\n",
    "  !pip install dm_control\n",
    "\n",
    "  # Configure dm_control to use the OSMesa rendering backend\n",
    "  %env MUJOCO_GL=osmesa\n",
    "\n",
    "  # Check that the installation succeeded\n",
    "  try:\n",
    "    from dm_control import suite\n",
    "    env = suite.load('cartpole', 'swingup')\n",
    "    pixels = env.physics.render()\n",
    "  except Exception as e:\n",
    "    raise e from RuntimeError(\n",
    "        'Something went wrong during installation. Check the shell output above '\n",
    "        'for more information. If you do not have a valid Mujoco license, '\n",
    "        'consider selecting `gym` in the dropdown menu at the top of this Colab.')\n",
    "  else:\n",
    "    del suite, env, pixels\n",
    "\n",
    "elif environment_library == 'gym':\n",
    "  !pip install gym"
   ]
  },
  {
   "cell_type": "markdown",
   "metadata": {
    "colab_type": "text",
    "id": "Cl8eyWblSs-z"
   },
   "source": [
    "### Install visualization packages"
   ]
  },
  {
   "cell_type": "code",
   "execution_count": null,
   "metadata": {
    "colab": {},
    "colab_type": "code",
    "id": "aSM7KHDFSsQS"
   },
   "outputs": [],
   "source": [
    "# !sudo apt-get install -y xvfb ffmpeg\n",
    "!pip install imageio\n",
    "!pip install PILLOW\n",
    "!pip install pyvirtualdisplay"
   ]
  },
  {
   "cell_type": "code",
   "execution_count": 1,
   "metadata": {},
   "outputs": [
    {
     "ename": "ImportError",
     "evalue": "cannot import name 'spaces' from 'gym' (/home/linux4/Documents/project/acme/examples/gym/__init__.py)",
     "output_type": "error",
     "traceback": [
      "\u001b[0;31m---------------------------------------------\u001b[0m",
      "\u001b[0;31mImportError\u001b[0m Traceback (most recent call last)",
      "\u001b[0;32m<ipython-input-1-57a772606644>\u001b[0m in \u001b[0;36m<module>\u001b[0;34m\u001b[0m\n\u001b[1;32m      3\u001b[0m \u001b[0;32mfrom\u001b[0m \u001b[0macme\u001b[0m \u001b[0;32mimport\u001b[0m \u001b[0menvironment_loop\u001b[0m\u001b[0;34m\u001b[0m\u001b[0;34m\u001b[0m\u001b[0m\n\u001b[1;32m      4\u001b[0m \u001b[0;32mfrom\u001b[0m \u001b[0macme\u001b[0m \u001b[0;32mimport\u001b[0m \u001b[0mspecs\u001b[0m\u001b[0;34m\u001b[0m\u001b[0;34m\u001b[0m\u001b[0m\n\u001b[0;32m----> 5\u001b[0;31m \u001b[0;32mfrom\u001b[0m \u001b[0macme\u001b[0m \u001b[0;32mimport\u001b[0m \u001b[0mwrappers\u001b[0m\u001b[0;34m\u001b[0m\u001b[0;34m\u001b[0m\u001b[0m\n\u001b[0m\u001b[1;32m      6\u001b[0m \u001b[0;32mfrom\u001b[0m \u001b[0macme\u001b[0m\u001b[0;34m.\u001b[0m\u001b[0magents\u001b[0m\u001b[0;34m.\u001b[0m\u001b[0mtf\u001b[0m \u001b[0;32mimport\u001b[0m \u001b[0md4pg\u001b[0m\u001b[0;34m\u001b[0m\u001b[0;34m\u001b[0m\u001b[0m\n\u001b[1;32m      7\u001b[0m \u001b[0;32mfrom\u001b[0m \u001b[0macme\u001b[0m\u001b[0;34m.\u001b[0m\u001b[0mtf\u001b[0m \u001b[0;32mimport\u001b[0m \u001b[0mnetworks\u001b[0m\u001b[0;34m\u001b[0m\u001b[0;34m\u001b[0m\u001b[0m\n",
      "\u001b[0;32m~/miniconda3/lib/python3.9/site-packages/acme/wrappers/__init__.py\u001b[0m in \u001b[0;36m<module>\u001b[0;34m\u001b[0m\n\u001b[1;32m     21\u001b[0m \u001b[0;32mfrom\u001b[0m \u001b[0macme\u001b[0m\u001b[0;34m.\u001b[0m\u001b[0mwrappers\u001b[0m\u001b[0;34m.\u001b[0m\u001b[0mcanonical_spec\u001b[0m \u001b[0;32mimport\u001b[0m \u001b[0mCanonicalSpecWrapper\u001b[0m\u001b[0;34m\u001b[0m\u001b[0;34m\u001b[0m\u001b[0m\n\u001b[1;32m     22\u001b[0m \u001b[0;32mfrom\u001b[0m \u001b[0macme\u001b[0m\u001b[0;34m.\u001b[0m\u001b[0mwrappers\u001b[0m\u001b[0;34m.\u001b[0m\u001b[0mframe_stacking\u001b[0m \u001b[0;32mimport\u001b[0m \u001b[0mFrameStackingWrapper\u001b[0m\u001b[0;34m\u001b[0m\u001b[0;34m\u001b[0m\u001b[0m\n\u001b[0;32m---> 23\u001b[0;31m \u001b[0;32mfrom\u001b[0m \u001b[0macme\u001b[0m\u001b[0;34m.\u001b[0m\u001b[0mwrappers\u001b[0m\u001b[0;34m.\u001b[0m\u001b[0mgym_wrapper\u001b[0m \u001b[0;32mimport\u001b[0m \u001b[0mGymAtariAdapter\u001b[0m\u001b[0;34m\u001b[0m\u001b[0;34m\u001b[0m\u001b[0m\n\u001b[0m\u001b[1;32m     24\u001b[0m \u001b[0;32mfrom\u001b[0m \u001b[0macme\u001b[0m\u001b[0;34m.\u001b[0m\u001b[0mwrappers\u001b[0m\u001b[0;34m.\u001b[0m\u001b[0mgym_wrapper\u001b[0m \u001b[0;32mimport\u001b[0m \u001b[0mGymWrapper\u001b[0m\u001b[0;34m\u001b[0m\u001b[0;34m\u001b[0m\u001b[0m\n\u001b[1;32m     25\u001b[0m \u001b[0;32mfrom\u001b[0m \u001b[0macme\u001b[0m\u001b[0;34m.\u001b[0m\u001b[0mwrappers\u001b[0m\u001b[0;34m.\u001b[0m\u001b[0mobservation_action_reward\u001b[0m \u001b[0;32mimport\u001b[0m \u001b[0mObservationActionRewardWrapper\u001b[0m\u001b[0;34m\u001b[0m\u001b[0;34m\u001b[0m\u001b[0m\n",
      "\u001b[0;32m~/miniconda3/lib/python3.9/site-packages/acme/wrappers/gym_wrapper.py\u001b[0m in \u001b[0;36m<module>\u001b[0;34m\u001b[0m\n\u001b[1;32m     23\u001b[0m \u001b[0;32mimport\u001b[0m \u001b[0mdm_env\u001b[0m\u001b[0;34m\u001b[0m\u001b[0;34m\u001b[0m\u001b[0m\n\u001b[1;32m     24\u001b[0m \u001b[0;32mimport\u001b[0m \u001b[0mgym\u001b[0m\u001b[0;34m\u001b[0m\u001b[0;34m\u001b[0m\u001b[0m\n\u001b[0;32m---> 25\u001b[0;31m \u001b[0;32mfrom\u001b[0m \u001b[0mgym\u001b[0m \u001b[0;32mimport\u001b[0m \u001b[0mspaces\u001b[0m\u001b[0;34m\u001b[0m\u001b[0;34m\u001b[0m\u001b[0m\n\u001b[0m\u001b[1;32m     26\u001b[0m \u001b[0;32mimport\u001b[0m \u001b[0mnumpy\u001b[0m \u001b[0;32mas\u001b[0m \u001b[0mnp\u001b[0m\u001b[0;34m\u001b[0m\u001b[0;34m\u001b[0m\u001b[0m\n\u001b[1;32m     27\u001b[0m \u001b[0;34m\u001b[0m\u001b[0m\n",
      "\u001b[0;31mImportError\u001b[0m: cannot import name 'spaces' from 'gym' (/home/linux4/Documents/project/acme/examples/gym/__init__.py)"
     ]
    }
   ],
   "source": [
    "import IPython\n",
    "\n",
    "from acme import environment_loop\n",
    "from acme import specs\n",
    "from acme import wrappers\n",
    "from acme.agents.tf import d4pg\n",
    "from acme.tf import networks\n",
    "from acme.tf import utils as tf2_utils\n",
    "from acme.utils import loggers\n",
    "import numpy as np\n",
    "import sonnet as snt\n"
   ]
  },
  {
   "cell_type": "markdown",
   "metadata": {
    "colab_type": "text",
    "id": "c-H2d6UZi7Sf"
   },
   "source": [
    "## Import Modules"
   ]
  },
  {
   "cell_type": "code",
   "execution_count": 1,
   "metadata": {
    "cellView": "both",
    "colab": {},
    "colab_type": "code",
    "id": "HJ74Id-8MERq"
   },
   "outputs": [
    {
     "ename": "ImportError",
     "evalue": "cannot import name 'spaces' from 'gym' (/home/linux4/Documents/project/acme/examples/gym/__init__.py)",
     "output_type": "error",
     "traceback": [
      "\u001b[0;31m---------------------------------------------------------------------------\u001b[0m",
      "\u001b[0;31mImportError\u001b[0m                               Traceback (most recent call last)",
      "\u001b[0;32m<ipython-input-1-b1a2d0b81aef>\u001b[0m in \u001b[0;36m<module>\u001b[0;34m\u001b[0m\n\u001b[1;32m      3\u001b[0m \u001b[0;32mfrom\u001b[0m \u001b[0macme\u001b[0m \u001b[0;32mimport\u001b[0m \u001b[0menvironment_loop\u001b[0m\u001b[0;34m\u001b[0m\u001b[0;34m\u001b[0m\u001b[0m\n\u001b[1;32m      4\u001b[0m \u001b[0;32mfrom\u001b[0m \u001b[0macme\u001b[0m \u001b[0;32mimport\u001b[0m \u001b[0mspecs\u001b[0m\u001b[0;34m\u001b[0m\u001b[0;34m\u001b[0m\u001b[0m\n\u001b[0;32m----> 5\u001b[0;31m \u001b[0;32mfrom\u001b[0m \u001b[0macme\u001b[0m \u001b[0;32mimport\u001b[0m \u001b[0mwrappers\u001b[0m\u001b[0;34m\u001b[0m\u001b[0;34m\u001b[0m\u001b[0m\n\u001b[0m\u001b[1;32m      6\u001b[0m \u001b[0;32mfrom\u001b[0m \u001b[0macme\u001b[0m\u001b[0;34m.\u001b[0m\u001b[0magents\u001b[0m\u001b[0;34m.\u001b[0m\u001b[0mtf\u001b[0m \u001b[0;32mimport\u001b[0m \u001b[0md4pg\u001b[0m\u001b[0;34m\u001b[0m\u001b[0;34m\u001b[0m\u001b[0m\n\u001b[1;32m      7\u001b[0m \u001b[0;32mfrom\u001b[0m \u001b[0macme\u001b[0m\u001b[0;34m.\u001b[0m\u001b[0mtf\u001b[0m \u001b[0;32mimport\u001b[0m \u001b[0mnetworks\u001b[0m\u001b[0;34m\u001b[0m\u001b[0;34m\u001b[0m\u001b[0m\n",
      "\u001b[0;32m~/miniconda3/envs/acme/lib/python3.9/site-packages/acme/wrappers/__init__.py\u001b[0m in \u001b[0;36m<module>\u001b[0;34m\u001b[0m\n\u001b[1;32m     21\u001b[0m \u001b[0;32mfrom\u001b[0m \u001b[0macme\u001b[0m\u001b[0;34m.\u001b[0m\u001b[0mwrappers\u001b[0m\u001b[0;34m.\u001b[0m\u001b[0mcanonical_spec\u001b[0m \u001b[0;32mimport\u001b[0m \u001b[0mCanonicalSpecWrapper\u001b[0m\u001b[0;34m\u001b[0m\u001b[0;34m\u001b[0m\u001b[0m\n\u001b[1;32m     22\u001b[0m \u001b[0;32mfrom\u001b[0m \u001b[0macme\u001b[0m\u001b[0;34m.\u001b[0m\u001b[0mwrappers\u001b[0m\u001b[0;34m.\u001b[0m\u001b[0mframe_stacking\u001b[0m \u001b[0;32mimport\u001b[0m \u001b[0mFrameStackingWrapper\u001b[0m\u001b[0;34m\u001b[0m\u001b[0;34m\u001b[0m\u001b[0m\n\u001b[0;32m---> 23\u001b[0;31m \u001b[0;32mfrom\u001b[0m \u001b[0macme\u001b[0m\u001b[0;34m.\u001b[0m\u001b[0mwrappers\u001b[0m\u001b[0;34m.\u001b[0m\u001b[0mgym_wrapper\u001b[0m \u001b[0;32mimport\u001b[0m \u001b[0mGymAtariAdapter\u001b[0m\u001b[0;34m\u001b[0m\u001b[0;34m\u001b[0m\u001b[0m\n\u001b[0m\u001b[1;32m     24\u001b[0m \u001b[0;32mfrom\u001b[0m \u001b[0macme\u001b[0m\u001b[0;34m.\u001b[0m\u001b[0mwrappers\u001b[0m\u001b[0;34m.\u001b[0m\u001b[0mgym_wrapper\u001b[0m \u001b[0;32mimport\u001b[0m \u001b[0mGymWrapper\u001b[0m\u001b[0;34m\u001b[0m\u001b[0;34m\u001b[0m\u001b[0m\n\u001b[1;32m     25\u001b[0m \u001b[0;32mfrom\u001b[0m \u001b[0macme\u001b[0m\u001b[0;34m.\u001b[0m\u001b[0mwrappers\u001b[0m\u001b[0;34m.\u001b[0m\u001b[0mobservation_action_reward\u001b[0m \u001b[0;32mimport\u001b[0m \u001b[0mObservationActionRewardWrapper\u001b[0m\u001b[0;34m\u001b[0m\u001b[0;34m\u001b[0m\u001b[0m\n",
      "\u001b[0;32m~/miniconda3/envs/acme/lib/python3.9/site-packages/acme/wrappers/gym_wrapper.py\u001b[0m in \u001b[0;36m<module>\u001b[0;34m\u001b[0m\n\u001b[1;32m     23\u001b[0m \u001b[0;32mimport\u001b[0m \u001b[0mdm_env\u001b[0m\u001b[0;34m\u001b[0m\u001b[0;34m\u001b[0m\u001b[0m\n\u001b[1;32m     24\u001b[0m \u001b[0;32mimport\u001b[0m \u001b[0mgym\u001b[0m\u001b[0;34m\u001b[0m\u001b[0;34m\u001b[0m\u001b[0m\n\u001b[0;32m---> 25\u001b[0;31m \u001b[0;32mfrom\u001b[0m \u001b[0mgym\u001b[0m \u001b[0;32mimport\u001b[0m \u001b[0mspaces\u001b[0m\u001b[0;34m\u001b[0m\u001b[0;34m\u001b[0m\u001b[0m\n\u001b[0m\u001b[1;32m     26\u001b[0m \u001b[0;32mimport\u001b[0m \u001b[0mnumpy\u001b[0m \u001b[0;32mas\u001b[0m \u001b[0mnp\u001b[0m\u001b[0;34m\u001b[0m\u001b[0;34m\u001b[0m\u001b[0m\n\u001b[1;32m     27\u001b[0m \u001b[0;34m\u001b[0m\u001b[0m\n",
      "\u001b[0;31mImportError\u001b[0m: cannot import name 'spaces' from 'gym' (/home/linux4/Documents/project/acme/examples/gym/__init__.py)"
     ]
    }
   ],
   "source": [
    "import IPython\n",
    "\n",
    "from acme import environment_loop\n",
    "from acme import specs\n",
    "from acme import wrappers\n",
    "from acme.agents.tf import d4pg\n",
    "from acme.tf import networks\n",
    "from acme.tf import utils as tf2_utils\n",
    "from acme.utils import loggers\n",
    "import numpy as np\n",
    "import sonnet as snt\n",
    "\n",
    "# Import the selected environment lib\n",
    "if environment_library == 'dm_control':\n",
    "  from dm_control import suite\n",
    "elif environment_library == 'gym':\n",
    "  import gym\n",
    "\n",
    "# Imports required for visualization\n",
    "import pyvirtualdisplay\n",
    "import imageio\n",
    "import base64\n",
    "\n",
    "# Set up a virtual display for rendering.\n",
    "display = pyvirtualdisplay.Display(visible=0, size=(1400, 900)).start()"
   ]
  },
  {
   "cell_type": "markdown",
   "metadata": {
    "colab_type": "text",
    "id": "I6KuVGSk4uc9"
   },
   "source": [
    "## Load an environment\n",
    "\n",
    "We can now load an environment. In what follows we'll create an environment and grab the environment's specifications."
   ]
  },
  {
   "cell_type": "code",
   "execution_count": 0,
   "metadata": {
    "cellView": "both",
    "colab": {},
    "colab_type": "code",
    "id": "4PVlHtGF5yzt"
   },
   "outputs": [],
   "source": [
    "if environment_library == 'dm_control':\n",
    "  environment = suite.load('cartpole', 'balance')\n",
    "  \n",
    "elif environment_library == 'gym':\n",
    "  environment = gym.make('MountainCarContinuous-v0')\n",
    "  environment = wrappers.GymWrapper(environment)  # To dm_env interface.\n",
    "\n",
    "else:\n",
    "  raise ValueError(\n",
    "      \"Unknown environment library: {};\".format(environment_name) +\n",
    "      \"choose among ['dm_control', 'gym'].\")\n",
    "\n",
    "# Make sure the environment outputs single-precision floats.\n",
    "environment = wrappers.SinglePrecisionWrapper(environment)\n",
    "\n",
    "# Grab the spec of the environment.\n",
    "environment_spec = specs.make_environment_spec(environment)\n"
   ]
  },
  {
   "cell_type": "markdown",
   "metadata": {
    "colab_type": "text",
    "id": "BukOfOsmtSQn"
   },
   "source": [
    " ## Create a D4PG agent"
   ]
  },
  {
   "cell_type": "code",
   "execution_count": 0,
   "metadata": {
    "colab": {},
    "colab_type": "code",
    "id": "3Jcjk1w6oHVX"
   },
   "outputs": [],
   "source": [
    "#@title Build agent networks\n",
    "\n",
    "# Get total number of action dimensions from action spec.\n",
    "num_dimensions = np.prod(environment_spec.actions.shape, dtype=int)\n",
    "\n",
    "# Create the shared observation network; here simply a state-less operation.\n",
    "observation_network = tf2_utils.batch_concat\n",
    "\n",
    "# Create the deterministic policy network.\n",
    "policy_network = snt.Sequential([\n",
    "    networks.LayerNormMLP((256, 256, 256), activate_final=True),\n",
    "    networks.NearZeroInitializedLinear(num_dimensions),\n",
    "    networks.TanhToSpec(environment_spec.actions),\n",
    "])\n",
    "\n",
    "# Create the distributional critic network.\n",
    "critic_network = snt.Sequential([\n",
    "    # The multiplexer concatenates the observations/actions.\n",
    "    networks.CriticMultiplexer(),\n",
    "    networks.LayerNormMLP((512, 512, 256), activate_final=True),\n",
    "    networks.DiscreteValuedHead(vmin=-150., vmax=150., num_atoms=51),\n",
    "])\n"
   ]
  },
  {
   "cell_type": "code",
   "execution_count": 0,
   "metadata": {
    "colab": {},
    "colab_type": "code",
    "id": "9CD2sNK-oA9S"
   },
   "outputs": [],
   "source": [
    "# Create a logger for the agent and environment loop.\n",
    "agent_logger = loggers.TerminalLogger(label='agent', time_delta=10.)\n",
    "env_loop_logger = loggers.TerminalLogger(label='env_loop', time_delta=10.)\n",
    "\n",
    "# Create the D4PG agent.\n",
    "agent = d4pg.D4PG(\n",
    "    environment_spec=environment_spec,\n",
    "    policy_network=policy_network,\n",
    "    critic_network=critic_network,\n",
    "    observation_network=observation_network,\n",
    "    sigma=1.0,\n",
    "    logger=agent_logger,\n",
    "    checkpoint=False\n",
    ")\n",
    "\n",
    "# Create an loop connecting this agent to the environment created above.\n",
    "env_loop = environment_loop.EnvironmentLoop(\n",
    "    environment, agent, logger=env_loop_logger)"
   ]
  },
  {
   "cell_type": "markdown",
   "metadata": {
    "colab_type": "text",
    "id": "oKeGQxzitXYC"
   },
   "source": [
    "## Run a training loop"
   ]
  },
  {
   "cell_type": "code",
   "execution_count": 0,
   "metadata": {
    "colab": {},
    "colab_type": "code",
    "id": "VWZd5N-Qoz82"
   },
   "outputs": [],
   "source": [
    "# Run a `num_episodes` training episodes.\n",
    "# Rerun this cell until the agent has learned the given task.\n",
    "env_loop.run(num_episodes=100)"
   ]
  },
  {
   "cell_type": "markdown",
   "metadata": {
    "colab_type": "text",
    "id": "Do57Ql4ZsWDu"
   },
   "source": [
    "## Visualize an evaluation loop\n"
   ]
  },
  {
   "cell_type": "markdown",
   "metadata": {
    "colab_type": "text",
    "id": "BJXkfg6LSZ-h"
   },
   "source": [
    "### Helper functions for rendering and vizualization"
   ]
  },
  {
   "cell_type": "code",
   "execution_count": 0,
   "metadata": {
    "colab": {},
    "colab_type": "code",
    "id": "OIJRbtAlxQVu"
   },
   "outputs": [],
   "source": [
    "# Create a simple helper function to render a frame from the current state of\n",
    "# the environment.\n",
    "if environment_library == 'dm_control':\n",
    "  def render(env):\n",
    "    return env.physics.render(camera_id=0)\n",
    "elif environment_library == 'gym':\n",
    "  def render(env):\n",
    "    return env.environment.render(mode='rgb_array')\n",
    "else:\n",
    "  raise ValueError(\n",
    "      \"Unknown environment library: {};\".format(environment_name) +\n",
    "      \"choose among ['dm_control', 'gym'].\")\n",
    "\n",
    "def display_video(frames, filename='temp.mp4'):\n",
    "  \"\"\"Save and display video.\"\"\"\n",
    "\n",
    "  # Write video\n",
    "  with imageio.get_writer(filename, fps=60) as video:\n",
    "    for frame in frames:\n",
    "      video.append_data(frame)\n",
    "\n",
    "  # Read video and display the video\n",
    "  video = open(filename, 'rb').read()\n",
    "  b64_video = base64.b64encode(video)\n",
    "  video_tag = ('<video  width=\"320\" height=\"240\" controls alt=\"test\" '\n",
    "               'src=\"data:video/mp4;base64,{0}\">').format(b64_video.decode())\n",
    "\n",
    "  return IPython.display.HTML(video_tag)"
   ]
  },
  {
   "cell_type": "markdown",
   "metadata": {
    "colab_type": "text",
    "id": "Rh8x46UKSf2c"
   },
   "source": [
    "### Run and visualize the agent in the environment for an episode"
   ]
  },
  {
   "cell_type": "code",
   "execution_count": 0,
   "metadata": {
    "colab": {},
    "colab_type": "code",
    "id": "2__mFiraWND1"
   },
   "outputs": [],
   "source": [
    "timestep = environment.reset()\n",
    "frames = [render(environment)]\n",
    "\n",
    "while not timestep.last():\n",
    "  # Simple environment loop.\n",
    "  action = agent.select_action(timestep.observation)\n",
    "  timestep = environment.step(action)\n",
    "\n",
    "  # Render the scene and add it to the frame stack.\n",
    "  frames.append(render(environment))\n",
    "\n",
    "# Save and display a video of the behaviour.\n",
    "display_video(np.array(frames))"
   ]
  }
 ],
 "metadata": {
  "colab": {
   "collapsed_sections": [],
   "name": "Acme: Quickstart",
   "provenance": []
  },
  "kernelspec": {
   "display_name": "Python 3",
   "language": "python",
   "name": "python3"
  },
  "language_info": {
   "codemirror_mode": {
    "name": "ipython",
    "version": 3
   },
   "file_extension": ".py",
   "mimetype": "text/x-python",
   "name": "python",
   "nbconvert_exporter": "python",
   "pygments_lexer": "ipython3",
   "version": "3.9.1"
  }
 },
 "nbformat": 4,
 "nbformat_minor": 1
}
